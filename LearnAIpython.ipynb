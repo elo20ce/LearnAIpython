{
  "nbformat": 4,
  "nbformat_minor": 0,
  "metadata": {
    "colab": {
      "provenance": [],
      "authorship_tag": "ABX9TyNe4IlXiDGzzT6HPYmpiI5S",
      "include_colab_link": true
    },
    "kernelspec": {
      "name": "python3",
      "display_name": "Python 3"
    },
    "language_info": {
      "name": "python"
    }
  },
  "cells": [
    {
      "cell_type": "markdown",
      "metadata": {
        "id": "view-in-github",
        "colab_type": "text"
      },
      "source": [
        "<a href=\"https://colab.research.google.com/github/elo20ce/LearnAIpython/blob/main/LearnAIpython.ipynb\" target=\"_parent\"><img src=\"https://colab.research.google.com/assets/colab-badge.svg\" alt=\"Open In Colab\"/></a>"
      ]
    },
    {
      "cell_type": "code",
      "execution_count": null,
      "metadata": {
        "id": "mfkIeI8agiQT",
        "colab": {
          "base_uri": "https://localhost:8080/",
          "height": 70
        },
        "outputId": "59b66224-f57b-43ea-b43a-687bd694cef7"
      },
      "outputs": [
        {
          "output_type": "stream",
          "name": "stdout",
          "text": [
            "Hello World\n",
            "Bonjour\n"
          ]
        },
        {
          "output_type": "execute_result",
          "data": {
            "text/plain": [
              "'Bonsoir'"
            ],
            "application/vnd.google.colaboratory.intrinsic+json": {
              "type": "string"
            }
          },
          "metadata": {},
          "execution_count": 1
        }
      ],
      "source": [
        "print('Hello World')\n",
        "print('Bonjour')\n",
        "'Bonsoir'"
      ]
    },
    {
      "cell_type": "code",
      "source": [
        "#Integer 0,1,2,3,4,5 (Entiers Naturels)\n",
        "variable = 30\n",
        "print(variable)\n",
        "print(type(variable))\n",
        "print(f\"La valeur est : {variable}\")"
      ],
      "metadata": {
        "colab": {
          "base_uri": "https://localhost:8080/"
        },
        "id": "yy7lcGEomhW8",
        "outputId": "a757e582-03c2-454a-af93-f01732ca871e"
      },
      "execution_count": null,
      "outputs": [
        {
          "output_type": "stream",
          "name": "stdout",
          "text": [
            "30\n",
            "<class 'int'>\n",
            "La valeur est : 30\n"
          ]
        }
      ]
    },
    {
      "cell_type": "code",
      "source": [
        "#Float 0.2,0.3,0.1,0.6,2.0,3.1,3.14 (Nombres decimaux)\n",
        "variable1 = 12.50\n",
        "print(variable1)\n",
        "print(type(variable1))\n",
        "print(f\"La moyenne vaut : {variable1}\")"
      ],
      "metadata": {
        "colab": {
          "base_uri": "https://localhost:8080/"
        },
        "id": "ygdVGk5boCRW",
        "outputId": "81f187f9-dfbf-40b8-db48-d03315847d0a"
      },
      "execution_count": null,
      "outputs": [
        {
          "output_type": "stream",
          "name": "stdout",
          "text": [
            "12.5\n",
            "<class 'float'>\n",
            "La moyenne vaut : 12.5\n"
          ]
        }
      ]
    },
    {
      "cell_type": "code",
      "source": [
        "#String 'Theo'\n",
        "variable2 = 'Adele'\n",
        "print(variable2)\n",
        "print(type(variable2))\n",
        "print(f\"Je réponds au nom d'{variable2}\")"
      ],
      "metadata": {
        "colab": {
          "base_uri": "https://localhost:8080/"
        },
        "id": "MjITc-ujoFmW",
        "outputId": "c55c968e-694a-4ed1-d3f2-d725c4d4bd26"
      },
      "execution_count": null,
      "outputs": [
        {
          "output_type": "stream",
          "name": "stdout",
          "text": [
            "Adele\n",
            "<class 'str'>\n",
            "Je réponds au nom d'Adele\n"
          ]
        }
      ]
    },
    {
      "cell_type": "code",
      "source": [
        "#Boolean True,False,1,0\n",
        "print(1 == 0) #égalité\n",
        "print(1 < 0) #inférieur\n",
        "print(1 > 0) #supérieur\n",
        "print(1 <= 0) #inférieur ou égal\n",
        "print(1 >= 0) #supérieur ou égal\n",
        "print(1 != 0) #différent\n",
        "print(bool(0), bool(1))"
      ],
      "metadata": {
        "colab": {
          "base_uri": "https://localhost:8080/"
        },
        "id": "oEM80KQlp0BL",
        "outputId": "96c72006-e256-4ef0-f3c1-56fbaa7fcdc4"
      },
      "execution_count": null,
      "outputs": [
        {
          "output_type": "stream",
          "name": "stdout",
          "text": [
            "False\n",
            "False\n",
            "True\n",
            "False\n",
            "True\n",
            "True\n",
            "False True\n"
          ]
        }
      ]
    },
    {
      "cell_type": "code",
      "source": [
        "#Convertir float en int\n",
        "print(int(14.32))"
      ],
      "metadata": {
        "colab": {
          "base_uri": "https://localhost:8080/"
        },
        "id": "AJopAj4muVQo",
        "outputId": "a5df1a2f-0d01-4795-f7c0-47d0fe5f6403"
      },
      "execution_count": null,
      "outputs": [
        {
          "output_type": "stream",
          "name": "stdout",
          "text": [
            "14\n"
          ]
        }
      ]
    },
    {
      "cell_type": "code",
      "source": [
        "#Tuple (2, 3)\n",
        "variable3 = (8, 9)\n",
        "print(variable3)\n",
        "print(type(variable3))"
      ],
      "metadata": {
        "colab": {
          "base_uri": "https://localhost:8080/"
        },
        "id": "roDIxLn-u5aR",
        "outputId": "9e22270e-26d1-44a8-8101-00c5e4c00cd2"
      },
      "execution_count": null,
      "outputs": [
        {
          "output_type": "stream",
          "name": "stdout",
          "text": [
            "(8, 9)\n",
            "<class 'tuple'>\n"
          ]
        }
      ]
    },
    {
      "cell_type": "code",
      "source": [
        "#List [1, 0, 'Dani', 25, 7, 'love', 'Leo', 41]  ; Les listes commencent de 0\n",
        "variable4 = [1, 0, 'Dani', 25, 7, 'love', 'Leo', 41]\n",
        "print(variable4)\n",
        "print(type(variable4))"
      ],
      "metadata": {
        "colab": {
          "base_uri": "https://localhost:8080/"
        },
        "id": "qhcn01XlviOd",
        "outputId": "41b450e2-0856-4796-d280-36416fb12592"
      },
      "execution_count": null,
      "outputs": [
        {
          "output_type": "stream",
          "name": "stdout",
          "text": [
            "[1, 0, 'Dani', 25, 7, 'love', 'Leo', 41]\n",
            "<class 'list'>\n"
          ]
        }
      ]
    },
    {
      "cell_type": "code",
      "source": [
        "#Dictionnaire {'F': ['Femme']} ; F: Key , Femme: Value {}\n",
        "variable5 = {'A': ['Ariel', 'Argile', 'Astuces', 'Ajouter'], 'L': ['Leo', 'Long', 'Louer', 'Lundi']}\n",
        "print(variable5)\n",
        "print(type(variable5))"
      ],
      "metadata": {
        "colab": {
          "base_uri": "https://localhost:8080/"
        },
        "id": "TRSjc3xMwdo-",
        "outputId": "f1c88850-c97b-49c1-9984-0255d4f90797"
      },
      "execution_count": null,
      "outputs": [
        {
          "output_type": "stream",
          "name": "stdout",
          "text": [
            "{'A': ['Ariel', 'Argile', 'Astuces', 'Ajouter'], 'L': ['Leo', 'Long', 'Louer', 'Lundi']}\n",
            "<class 'dict'>\n"
          ]
        }
      ]
    },
    {
      "cell_type": "code",
      "source": [
        "#If else / elif : Permet de mettre les conditions\n",
        "if variable2 == 'Odette':\n",
        "  print(\"C'est ma Chérie.\")\n",
        "elif variable2 == 'Adèle':\n",
        "  print(\"Cest mon Ex le plus detester de tous.\")\n",
        "else :\n",
        "  print(\"Ce n'est ni ma Chérie, ni mon Ex le plus detester de tous.\")"
      ],
      "metadata": {
        "colab": {
          "base_uri": "https://localhost:8080/"
        },
        "id": "WpEOuNP3x26c",
        "outputId": "6ca7e7a6-41f2-484d-f04a-5e0bb369529b"
      },
      "execution_count": null,
      "outputs": [
        {
          "output_type": "stream",
          "name": "stdout",
          "text": [
            "Ce n'est ni ma Chérie, ni mon Ex le plus detester de tous.\n"
          ]
        }
      ]
    },
    {
      "cell_type": "code",
      "source": [
        "#Boucle For <variable> dans <list> : Attention au boucle infinie, sans condition d'arrêt .\n",
        "#Never repeat yourself\n",
        "variable6 = 'Février'\n",
        "for i in range(6) :\n",
        "  print(i)\n",
        "  print(variable6)"
      ],
      "metadata": {
        "colab": {
          "base_uri": "https://localhost:8080/"
        },
        "id": "RzqfVj-Ezor3",
        "outputId": "0fac619f-1b35-4789-b09a-9b48d74298d6"
      },
      "execution_count": null,
      "outputs": [
        {
          "output_type": "stream",
          "name": "stdout",
          "text": [
            "0\n",
            "Février\n",
            "1\n",
            "Février\n",
            "2\n",
            "Février\n",
            "3\n",
            "Février\n",
            "4\n",
            "Février\n",
            "5\n",
            "Février\n"
          ]
        }
      ]
    },
    {
      "cell_type": "code",
      "source": [
        "#Boucle while <condition> pas résolu , on boucle"
      ],
      "metadata": {
        "id": "xjQGuWgv4XIM"
      },
      "execution_count": null,
      "outputs": []
    }
  ]
}